{
 "cells": [
  {
   "cell_type": "markdown",
   "metadata": {},
   "source": [
    "The Flajolet–Martin algorithm is an algorithm for approximating the number of distinct elements in a stream with a single pass and space-consumption logarithmic in the maximal number of possible distinct elements in the stream (the count-distinct problem)."
   ]
  },
  {
   "cell_type": "markdown",
   "metadata": {},
   "source": [
    "#### The paper with full description and formulas can be found in the paper called Flajolet–Martin Paper (Folder)"
   ]
  },
  {
   "cell_type": "markdown",
   "metadata": {},
   "source": [
    "### This algorithm is implemented as additional task"
   ]
  },
  {
   "cell_type": "code",
   "execution_count": 5,
   "metadata": {},
   "outputs": [
    {
     "name": "stdout",
     "output_type": "stream",
     "text": [
      "15309210\n"
     ]
    }
   ],
   "source": [
    "#In order to execute the programm you need to unzip \"quotes_2009-01.txt.gz\" file which is located\n",
    "#in the same directory as this programm;\n",
    "\n",
    "from bitarray import bitarray\n",
    "import mmh3\n",
    "import statistics\n",
    "import math\n",
    "\n",
    "def trailing_zeros(n):\n",
    "    s = str(n)\n",
    "    return len(s)-len(s.rstrip('0'))\n",
    "\n",
    "#link for downloading all tars: https://snap.stanford.edu/data/memetracker9.html\n",
    "\n",
    "# input_file = ['quotes_2008-08.txt','quotes_2008-09.txt','quotes_2008-10.txt','quotes_2008-11.txt','quotes_2008-12.txt',\n",
    "# 'quotes_2009-01.txt','quotes_2009-02.txt','quotes_2009-03.txt','quotes_2009-04.txt']\n",
    "\n",
    "#We will execute just for 1 --> need to download and unzip;\n",
    "input_file = ['quotes_2009-01.txt']\n",
    "\n",
    "result = [ \"\" for i in range(10)]\n",
    "result_tail = [[] for i in range(10)]\n",
    "\n",
    "for i in input_file:\n",
    "    fp = open(i,\"r\", encoding='ISO-8859-1')\n",
    "    for line in fp:\n",
    "        stream = line.split(\"\\t\")\n",
    "        if stream[0] is 'Q':\n",
    "            for seed in range(10):\n",
    "                result[seed] = format(abs(mmh3.hash(stream[1], seed)), '032b')\n",
    "                result_tail[seed].append(trailing_zeros(result[seed]))\n",
    "    fp.close()\n",
    "\n",
    "group1 = (2**(max(result_tail[0])) + 2**(max(result_tail[1])) + 2**(max(result_tail[2])) + 2**(max(result_tail[3])) + 2**(max(result_tail[4])))/ float(5)\n",
    "group2 = (2**(max(result_tail[5])) + 2**(max(result_tail[6])) + 2**(max(result_tail[7])) + 2**(max(result_tail[8])) + 2**(max(result_tail[9])))/ float(5)\n",
    "print (math.ceil(statistics.median([group1, group2])))\n"
   ]
  },
  {
   "cell_type": "code",
   "execution_count": null,
   "metadata": {},
   "outputs": [],
   "source": []
  }
 ],
 "metadata": {
  "kernelspec": {
   "display_name": "Python 3",
   "language": "python",
   "name": "python3"
  },
  "language_info": {
   "codemirror_mode": {
    "name": "ipython",
    "version": 3
   },
   "file_extension": ".py",
   "mimetype": "text/x-python",
   "name": "python",
   "nbconvert_exporter": "python",
   "pygments_lexer": "ipython3",
   "version": "3.7.4"
  }
 },
 "nbformat": 4,
 "nbformat_minor": 2
}
