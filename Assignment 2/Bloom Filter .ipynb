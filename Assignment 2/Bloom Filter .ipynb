{
 "cells": [
  {
   "cell_type": "markdown",
   "metadata": {},
   "source": [
    "Bloom Filter "
   ]
  },
  {
   "cell_type": "code",
   "execution_count": 10,
   "metadata": {},
   "outputs": [],
   "source": [
    "class FilterBloom:\n",
    "    def __init__(self, size = 1000, hashFunctions = None):\n",
    "        self.bits = 0\n",
    "        self.size = size\n",
    "        if hashFunctions is None:\n",
    "            self.k = 1\n",
    "            self.hashFunctions = [lambda elem, size: hash(elem) % size]\n",
    "        else: \n",
    "            self.k = len(hashFunctions)\n",
    "            self.hashFunctions = hashFunctions\n",
    "            \n",
    "    def add(self, value):\n",
    "        for hf in self.hashFunctions:\n",
    "            self.bits |= 1 << hf(value, self.size)\n",
    "            \n",
    "    def contains(self, value):\n",
    "        for hf in self.hashFunctions:\n",
    "            if self.bits & 1 << hf(value, self.size) == 0:\n",
    "                return False\n",
    "            else:\n",
    "                return True"
   ]
  },
  {
   "cell_type": "code",
   "execution_count": 11,
   "metadata": {},
   "outputs": [],
   "source": [
    "x = FilterBloom()"
   ]
  },
  {
   "cell_type": "code",
   "execution_count": 12,
   "metadata": {},
   "outputs": [],
   "source": [
    "x.add('Hello')"
   ]
  },
  {
   "cell_type": "code",
   "execution_count": 13,
   "metadata": {},
   "outputs": [
    {
     "data": {
      "text/plain": [
       "True"
      ]
     },
     "execution_count": 13,
     "metadata": {},
     "output_type": "execute_result"
    }
   ],
   "source": [
    "x.contains('Hello')"
   ]
  },
  {
   "cell_type": "code",
   "execution_count": 14,
   "metadata": {},
   "outputs": [
    {
     "data": {
      "text/plain": [
       "False"
      ]
     },
     "execution_count": 14,
     "metadata": {},
     "output_type": "execute_result"
    }
   ],
   "source": [
    "x.contains('hello')"
   ]
  },
  {
   "cell_type": "code",
   "execution_count": null,
   "metadata": {},
   "outputs": [],
   "source": []
  }
 ],
 "metadata": {
  "kernelspec": {
   "display_name": "Python 3",
   "language": "python",
   "name": "python3"
  },
  "language_info": {
   "codemirror_mode": {
    "name": "ipython",
    "version": 3
   },
   "file_extension": ".py",
   "mimetype": "text/x-python",
   "name": "python",
   "nbconvert_exporter": "python",
   "pygments_lexer": "ipython3",
   "version": "3.6.7"
  }
 },
 "nbformat": 4,
 "nbformat_minor": 2
}
