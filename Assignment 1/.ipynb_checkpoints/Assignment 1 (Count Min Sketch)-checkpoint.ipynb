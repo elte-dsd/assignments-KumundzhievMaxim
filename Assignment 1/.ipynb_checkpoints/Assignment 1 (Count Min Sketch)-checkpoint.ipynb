{
 "cells": [
  {
   "cell_type": "markdown",
   "metadata": {},
   "source": [
    "**Subject: Stream Mining**<br>\n",
    "**Student: Maksim Kumundzhiev**<br>\n",
    "**Neptune Code: V249C6**<br>\n",
    "**Hometask: Assignment 1**<br>\n",
    "\n"
   ]
  },
  {
   "cell_type": "markdown",
   "metadata": {},
   "source": [
    "Implement Count Min Sketch Algorithm [link](https://en.wikipedia.org/wiki/Count%E2%80%93min_sketch)"
   ]
  },
  {
   "cell_type": "code",
   "execution_count": null,
   "metadata": {},
   "outputs": [],
   "source": []
  }
 ],
 "metadata": {
  "kernelspec": {
   "display_name": "Python 3",
   "language": "python",
   "name": "python3"
  },
  "language_info": {
   "codemirror_mode": {
    "name": "ipython",
    "version": 3
   },
   "file_extension": ".py",
   "mimetype": "text/x-python",
   "name": "python",
   "nbconvert_exporter": "python",
   "pygments_lexer": "ipython3",
   "version": "3.6.7"
  }
 },
 "nbformat": 4,
 "nbformat_minor": 2
}
