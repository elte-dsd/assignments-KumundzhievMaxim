{
 "cells": [
  {
   "cell_type": "markdown",
   "metadata": {},
   "source": [
    "**Subject: Stream Mining**<br>\n",
    "**Student: Maksim Kumundzhiev**<br>\n",
    "**Neptune Code: V249C6**<br>\n",
    "**Hometask: Assignment 1**<br>\n",
    "\n"
   ]
  },
  {
   "cell_type": "markdown",
   "metadata": {},
   "source": [
    "## Count Min Sketch Algorithm \n",
    "[Wikipedia](https://en.wikipedia.org/wiki/Count%E2%80%93min_sketch)<br>\n",
    "[Git Slides](https://hkorte.github.io/slides/cmsketch/#/)"
   ]
  },
  {
   "cell_type": "code",
   "execution_count": 102,
   "metadata": {},
   "outputs": [],
   "source": [
    "#Imports \n",
    "import numpy as np\n",
    "import pandas as pd\n",
    "import mmh3\n",
    "import json"
   ]
  },
  {
   "cell_type": "code",
   "execution_count": 115,
   "metadata": {},
   "outputs": [],
   "source": [
    "def Solution(data, num_HashFunctions, num_Columns):\n",
    "    characters = list(data)\n",
    "    stream = np.random.choice(list(data), 100)\n",
    "#############\n",
    "    num_HashFunctions = num_HashFunctions\n",
    "    num_Columns = num_Columns\n",
    "#############\n",
    "    hash_seeds = np.random.randint(1, 100, num_HashFunctions)\n",
    "    \n",
    "####Define Our Sketch Matrix\n",
    "    sketch = pd.DataFrame(np.zeros((num_HashFunctions, num_Columns)))\n",
    "    #/*characters, '\\n'*/\n",
    "    print(stream, '\\n', num_HashFunctions, '\\n', num_Columns, '\\n', sketch, '\\n')\n",
    "    for character in stream:\n",
    "        for hash_fun in range(num_HashFunctions):\n",
    "            sketch_dot = mmh3.hash(character, seed = hash_seeds[hash_fun]) % num_Columns\n",
    "            sketch.loc[hash_fun, sketch_dot] += 1\n",
    "    print(sketch, '\\n')\n",
    "\n",
    "#####Calculate \"Count Min Sketch\" for each item\n",
    "    counts = dict()\n",
    "    for character in characters:\n",
    "        for hash_fun in range(num_HashFunctions):\n",
    "            sketch_dot = mmh3.hash(character, seed = hash_seeds[hash_fun]) % num_Columns\n",
    "            if character in counts:\n",
    "                hash_count = sketch.loc[hash_fun, sketch_dot]\n",
    "                if hash_count < counts[character]:\n",
    "                        counts[character] = hash_count\n",
    "            else:\n",
    "                counts[character] = sketch.loc[hash_fun, sketch_dot]\n",
    "    return(json.dumps(counts), f'Total Number of Occurences: %s' %json.dumps(int(sum(counts.values()))))"
   ]
  },
  {
   "cell_type": "code",
   "execution_count": 116,
   "metadata": {},
   "outputs": [
    {
     "name": "stdout",
     "output_type": "stream",
     "text": [
      "['C' 'G' 'A' 'K' 'N' 'A' 'O' 'E' 'J' 'L' 'E' 'C' 'H' 'I' 'E' 'N' 'L' 'A'\n",
      " 'H' 'I' 'G' 'C' 'D' 'A' 'F' 'F' 'E' 'C' 'A' 'I' 'H' 'E' 'G' 'G' 'J' 'F'\n",
      " 'D' 'D' 'N' 'I' 'G' 'G' 'D' 'O' 'L' 'L' 'K' 'G' 'G' 'H' 'D' 'B' 'D' 'E'\n",
      " 'K' 'F' 'D' 'G' 'J' 'A' 'L' 'A' 'K' 'E' 'P' 'D' 'K' 'C' 'I' 'G' 'J' 'H'\n",
      " 'H' 'N' 'N' 'F' 'H' 'F' 'O' 'K' 'C' 'L' 'A' 'F' 'N' 'G' 'K' 'J' 'C' 'E'\n",
      " 'G' 'F' 'N' 'F' 'N' 'B' 'E' 'P' 'H' 'H'] \n",
      " 11 \n",
      " 11 \n",
      "      0    1    2    3    4    5    6    7    8    9    10\n",
      "0   0.0  0.0  0.0  0.0  0.0  0.0  0.0  0.0  0.0  0.0  0.0\n",
      "1   0.0  0.0  0.0  0.0  0.0  0.0  0.0  0.0  0.0  0.0  0.0\n",
      "2   0.0  0.0  0.0  0.0  0.0  0.0  0.0  0.0  0.0  0.0  0.0\n",
      "3   0.0  0.0  0.0  0.0  0.0  0.0  0.0  0.0  0.0  0.0  0.0\n",
      "4   0.0  0.0  0.0  0.0  0.0  0.0  0.0  0.0  0.0  0.0  0.0\n",
      "5   0.0  0.0  0.0  0.0  0.0  0.0  0.0  0.0  0.0  0.0  0.0\n",
      "6   0.0  0.0  0.0  0.0  0.0  0.0  0.0  0.0  0.0  0.0  0.0\n",
      "7   0.0  0.0  0.0  0.0  0.0  0.0  0.0  0.0  0.0  0.0  0.0\n",
      "8   0.0  0.0  0.0  0.0  0.0  0.0  0.0  0.0  0.0  0.0  0.0\n",
      "9   0.0  0.0  0.0  0.0  0.0  0.0  0.0  0.0  0.0  0.0  0.0\n",
      "10  0.0  0.0  0.0  0.0  0.0  0.0  0.0  0.0  0.0  0.0  0.0 \n",
      "\n",
      "      0     1     2     3     4     5     6     7     8     9     10\n",
      "0    0.0   2.0   0.0   0.0  11.0  19.0   6.0   5.0  22.0   7.0  28.0\n",
      "1   11.0  11.0  12.0   7.0   9.0   0.0   7.0  18.0   2.0  16.0   7.0\n",
      "2   20.0  20.0   0.0  14.0   0.0   8.0   8.0  12.0   0.0  18.0   0.0\n",
      "3    8.0  20.0   0.0  24.0  12.0  16.0   0.0   8.0   0.0   9.0   3.0\n",
      "4    0.0  28.0  11.0  12.0  13.0   6.0   0.0  16.0   9.0   0.0   5.0\n",
      "5    0.0  17.0   0.0  17.0   2.0   8.0  15.0   5.0   9.0  18.0   9.0\n",
      "6   17.0   6.0   0.0   0.0  23.0  10.0  37.0   0.0   2.0   5.0   0.0\n",
      "7   20.0   7.0   9.0   8.0   8.0  12.0  17.0   5.0   3.0  11.0   0.0\n",
      "8    8.0  20.0   0.0  24.0  12.0  16.0   0.0   8.0   0.0   9.0   3.0\n",
      "9   21.0   0.0   9.0  19.0   0.0   8.0  20.0   2.0   0.0   7.0  14.0\n",
      "10   8.0   5.0   8.0   0.0   6.0   0.0  11.0  16.0  10.0  36.0   0.0 \n",
      "\n"
     ]
    },
    {
     "data": {
      "text/plain": [
       "('{\"E\": 9.0, \"F\": 9.0, \"G\": 12.0, \"H\": 9.0, \"I\": 5.0, \"A\": 8.0, \"B\": 2.0, \"C\": 7.0, \"D\": 8.0, \"J\": 5.0, \"K\": 7.0, \"L\": 6.0, \"M\": 0.0, \"N\": 8.0, \"O\": 3.0, \"P\": 2.0}',\n",
       " 'Total Number of Occurences: 100')"
      ]
     },
     "execution_count": 116,
     "metadata": {},
     "output_type": "execute_result"
    }
   ],
   "source": [
    "Solution('EFGHIABCDEFGHIJKLMNOP', num_HashFunctions = 11, num_Columns = 11)"
   ]
  },
  {
   "cell_type": "code",
   "execution_count": null,
   "metadata": {},
   "outputs": [],
   "source": []
  }
 ],
 "metadata": {
  "kernelspec": {
   "display_name": "Python 3",
   "language": "python",
   "name": "python3"
  },
  "language_info": {
   "codemirror_mode": {
    "name": "ipython",
    "version": 3
   },
   "file_extension": ".py",
   "mimetype": "text/x-python",
   "name": "python",
   "nbconvert_exporter": "python",
   "pygments_lexer": "ipython3",
   "version": "3.6.7"
  }
 },
 "nbformat": 4,
 "nbformat_minor": 2
}
