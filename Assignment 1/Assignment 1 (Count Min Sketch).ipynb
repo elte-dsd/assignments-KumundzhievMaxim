{
 "cells": [
  {
   "cell_type": "markdown",
   "metadata": {},
   "source": [
    "**Subject: Stream Mining**<br>\n",
    "**Student: Maksim Kumundzhiev**<br>\n",
    "**Neptune Code: V249C6**<br>\n",
    "**Hometask: Assignment 1**<br>\n",
    "\n"
   ]
  },
  {
   "cell_type": "markdown",
   "metadata": {},
   "source": [
    "## Count Min Sketch Algorithm \n",
    "[Wikipedia](https://en.wikipedia.org/wiki/Count%E2%80%93min_sketch)<br>\n",
    "[Git Slides](https://hkorte.github.io/slides/cmsketch/#/)"
   ]
  },
  {
   "cell_type": "code",
   "execution_count": 1,
   "metadata": {},
   "outputs": [],
   "source": [
    "#Imports \n",
    "import numpy as np\n",
    "import pandas as pd\n",
    "import mmh3\n",
    "import json"
   ]
  },
  {
   "cell_type": "code",
   "execution_count": 2,
   "metadata": {},
   "outputs": [],
   "source": [
    "def Solution(data, num_HashFunctions, num_Columns):\n",
    "    characters = list(data)\n",
    "    stream = np.random.choice(list(data), 100)\n",
    "#############\n",
    "    num_HashFunctions = num_HashFunctions\n",
    "    num_Columns = num_Columns\n",
    "#############\n",
    "    hash_seeds = np.random.randint(1, 100, num_HashFunctions)\n",
    "    \n",
    "####Define Our Sketch Matrix\n",
    "    sketch = pd.DataFrame(np.zeros((num_HashFunctions, num_Columns)))\n",
    "    #/*characters, '\\n'*/\n",
    "    print(stream, '\\n', num_HashFunctions, '\\n', num_Columns, '\\n', sketch, '\\n')\n",
    "    for character in stream:\n",
    "        for hash_fun in range(num_HashFunctions):\n",
    "            sketch_dot = mmh3.hash(character, seed = hash_seeds[hash_fun]) % num_Columns\n",
    "            sketch.loc[hash_fun, sketch_dot] += 1\n",
    "    print(sketch, '\\n')\n",
    "\n",
    "#####Calculate \"Count Min Sketch\" for each item\n",
    "    counts = dict()\n",
    "    for character in characters:\n",
    "        for hash_fun in range(num_HashFunctions):\n",
    "            sketch_dot = mmh3.hash(character, seed = hash_seeds[hash_fun]) % num_Columns\n",
    "            if character in counts:\n",
    "                hash_count = sketch.loc[hash_fun, sketch_dot]\n",
    "                if hash_count < counts[character]:\n",
    "                        counts[character] = hash_count\n",
    "            else:\n",
    "                counts[character] = sketch.loc[hash_fun, sketch_dot]\n",
    "    return(json.dumps(counts), f'Total Number of Occurences: %s' %json.dumps(int(sum(counts.values()))))"
   ]
  },
  {
   "cell_type": "code",
   "execution_count": 3,
   "metadata": {},
   "outputs": [
    {
     "name": "stdout",
     "output_type": "stream",
     "text": [
      "['K' 'H' 'B' 'L' 'D' 'F' 'N' 'G' 'H' 'K' 'J' 'A' 'H' 'O' 'P' 'M' 'E' 'N'\n",
      " 'P' 'G' 'M' 'N' 'G' 'I' 'A' 'C' 'H' 'M' 'D' 'G' 'C' 'O' 'C' 'I' 'G' 'K'\n",
      " 'K' 'G' 'E' 'H' 'J' 'P' 'N' 'H' 'F' 'D' 'K' 'B' 'C' 'D' 'A' 'L' 'J' 'A'\n",
      " 'I' 'P' 'K' 'E' 'H' 'A' 'G' 'E' 'K' 'A' 'M' 'G' 'D' 'G' 'E' 'H' 'M' 'F'\n",
      " 'G' 'H' 'E' 'I' 'G' 'O' 'G' 'F' 'K' 'P' 'L' 'D' 'C' 'I' 'N' 'L' 'B' 'N'\n",
      " 'E' 'M' 'I' 'K' 'G' 'J' 'A' 'G' 'O' 'O'] \n",
      " 11 \n",
      " 11 \n",
      "      0    1    2    3    4    5    6    7    8    9    10\n",
      "0   0.0  0.0  0.0  0.0  0.0  0.0  0.0  0.0  0.0  0.0  0.0\n",
      "1   0.0  0.0  0.0  0.0  0.0  0.0  0.0  0.0  0.0  0.0  0.0\n",
      "2   0.0  0.0  0.0  0.0  0.0  0.0  0.0  0.0  0.0  0.0  0.0\n",
      "3   0.0  0.0  0.0  0.0  0.0  0.0  0.0  0.0  0.0  0.0  0.0\n",
      "4   0.0  0.0  0.0  0.0  0.0  0.0  0.0  0.0  0.0  0.0  0.0\n",
      "5   0.0  0.0  0.0  0.0  0.0  0.0  0.0  0.0  0.0  0.0  0.0\n",
      "6   0.0  0.0  0.0  0.0  0.0  0.0  0.0  0.0  0.0  0.0  0.0\n",
      "7   0.0  0.0  0.0  0.0  0.0  0.0  0.0  0.0  0.0  0.0  0.0\n",
      "8   0.0  0.0  0.0  0.0  0.0  0.0  0.0  0.0  0.0  0.0  0.0\n",
      "9   0.0  0.0  0.0  0.0  0.0  0.0  0.0  0.0  0.0  0.0  0.0\n",
      "10  0.0  0.0  0.0  0.0  0.0  0.0  0.0  0.0  0.0  0.0  0.0 \n",
      "\n",
      "      0     1     2     3     4     5     6     7     8     9     10\n",
      "0    9.0   6.0  12.0   3.0   0.0  11.0   0.0   6.0  14.0  15.0  24.0\n",
      "1    0.0  31.0   0.0   8.0   9.0   7.0  10.0  21.0   0.0  14.0   0.0\n",
      "2   23.0   5.0   4.0   6.0   6.0  19.0  14.0   6.0   5.0  12.0   0.0\n",
      "3   16.0   0.0  24.0   9.0  15.0   6.0   3.0   0.0   4.0   5.0  18.0\n",
      "4   13.0  20.0   6.0   0.0   0.0   6.0  31.0   4.0  12.0   3.0   5.0\n",
      "5    8.0   0.0   7.0   4.0  15.0  14.0  12.0  25.0   6.0   9.0   0.0\n",
      "6    0.0  12.0  14.0  13.0  24.0   0.0  15.0   0.0   9.0   6.0   7.0\n",
      "7   20.0  14.0   9.0  17.0   6.0  16.0   0.0   0.0  13.0   0.0   5.0\n",
      "8    7.0   0.0   6.0   0.0   9.0   0.0  18.0  15.0  10.0   0.0  35.0\n",
      "9    0.0  16.0  15.0  34.0   0.0  13.0   6.0   0.0   0.0   5.0  11.0\n",
      "10  11.0  16.0  14.0   5.0   7.0   0.0   9.0  13.0   3.0  13.0   9.0 \n",
      "\n"
     ]
    },
    {
     "data": {
      "text/plain": [
       "('{\"E\": 7.0, \"F\": 4.0, \"G\": 14.0, \"H\": 9.0, \"I\": 6.0, \"A\": 7.0, \"B\": 3.0, \"C\": 5.0, \"D\": 6.0, \"J\": 4.0, \"K\": 9.0, \"L\": 10.0, \"M\": 6.0, \"N\": 6.0, \"O\": 5.0, \"P\": 5.0}',\n",
       " 'Total Number of Occurences: 106')"
      ]
     },
     "execution_count": 3,
     "metadata": {},
     "output_type": "execute_result"
    }
   ],
   "source": [
    "Solution('EFGHIABCDEFGHIJKLMNOP', num_HashFunctions = 11, num_Columns = 11)"
   ]
  },
  {
   "cell_type": "code",
   "execution_count": null,
   "metadata": {},
   "outputs": [],
   "source": []
  }
 ],
 "metadata": {
  "kernelspec": {
   "display_name": "Python 3",
   "language": "python",
   "name": "python3"
  },
  "language_info": {
   "codemirror_mode": {
    "name": "ipython",
    "version": 3
   },
   "file_extension": ".py",
   "mimetype": "text/x-python",
   "name": "python",
   "nbconvert_exporter": "python",
   "pygments_lexer": "ipython3",
   "version": "3.7.4"
  }
 },
 "nbformat": 4,
 "nbformat_minor": 2
}
