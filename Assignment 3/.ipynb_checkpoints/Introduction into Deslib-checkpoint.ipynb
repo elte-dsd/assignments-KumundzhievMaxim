{
 "cells": [
  {
   "cell_type": "markdown",
   "metadata": {},
   "source": [
    "### We will walk through generating a pool of classifiers and applying several dynamic selection techniques for the classification of unknown samples."
   ]
  },
  {
   "cell_type": "code",
   "execution_count": 7,
   "metadata": {},
   "outputs": [],
   "source": [
    "#Imports\n",
    "\n",
    "from sklearn.datasets import load_breast_cancer\n",
    "from sklearn.model_selection import train_test_split\n",
    "from sklearn.preprocessing import StandardScaler\n",
    "from sklearn.linear_model import Perceptron\n",
    "from sklearn.calibration import CalibratedClassifierCV\n",
    "from sklearn.ensemble import BaggingClassifier\n",
    "\n",
    "#importing DCS techniques from DESlib\n",
    "from deslib.dcs.ola import OLA\n",
    "from deslib.dcs.a_priori import APriori\n",
    "from deslib.dcs.mcb import MCB\n",
    "\n",
    "#import DES techniques from DESlib\n",
    "from deslib.des.des_p import DESP\n",
    "from deslib.des.knora_u import KNORAU\n",
    "from deslib.des.knora_e import KNORAE\n",
    "from deslib.des.meta_des import METADES\n",
    "\n",
    "import warnings\n",
    "warnings.filterwarnings('ignore')"
   ]
  },
  {
   "cell_type": "code",
   "execution_count": 8,
   "metadata": {},
   "outputs": [],
   "source": [
    "data = load_breast_cancer()\n",
    "X = data.data\n",
    "y = data.target\n",
    "# split the data into training and test data\n",
    "X_train, X_test, y_train, y_test = train_test_split(X, y, test_size=0.33)\n",
    "\n",
    "# Scale the variables to have 0 mean and unit variance\n",
    "scalar = StandardScaler()\n",
    "X_train = scalar.fit_transform(X_train)\n",
    "X_test = scalar.transform(X_test)\n",
    "\n",
    "# Split the data into training and DSEL for DS techniques\n",
    "X_train, X_dsel, y_train, y_dsel = train_test_split(X_train, y_train, test_size=0.5)"
   ]
  },
  {
   "cell_type": "code",
   "execution_count": 9,
   "metadata": {},
   "outputs": [
    {
     "data": {
      "text/plain": [
       "BaggingClassifier(base_estimator=CalibratedClassifierCV(base_estimator=Perceptron(alpha=0.0001,\n",
       "                                                                                  class_weight=None,\n",
       "                                                                                  early_stopping=False,\n",
       "                                                                                  eta0=1.0,\n",
       "                                                                                  fit_intercept=True,\n",
       "                                                                                  max_iter=10,\n",
       "                                                                                  n_iter_no_change=5,\n",
       "                                                                                  n_jobs=None,\n",
       "                                                                                  penalty=None,\n",
       "                                                                                  random_state=0,\n",
       "                                                                                  shuffle=True,\n",
       "                                                                                  tol=0.001,\n",
       "                                                                                  validation_fraction=0.1,\n",
       "                                                                                  verbose=0,\n",
       "                                                                                  warm_start=False),\n",
       "                                                        cv='warn',\n",
       "                                                        method='sigmoid'),\n",
       "                  bootstrap=True, bootstrap_features=False, max_features=1.0,\n",
       "                  max_samples=1.0, n_estimators=10, n_jobs=None,\n",
       "                  oob_score=False, random_state=None, verbose=0,\n",
       "                  warm_start=False)"
      ]
     },
     "execution_count": 9,
     "metadata": {},
     "output_type": "execute_result"
    }
   ],
   "source": [
    "model = CalibratedClassifierCV(Perceptron(max_iter=10))\n",
    "\n",
    "# Train a pool of 10 classifiers\n",
    "pool_classifiers = BaggingClassifier(model, n_estimators=10)\n",
    "pool_classifiers.fit(X_train, y_train)"
   ]
  },
  {
   "cell_type": "code",
   "execution_count": 11,
   "metadata": {},
   "outputs": [],
   "source": [
    "# DCS techniques\n",
    "ola = OLA(pool_classifiers)\n",
    "mcb = MCB(pool_classifiers)\n",
    "apriori = APriori(pool_classifiers)\n",
    "\n",
    "# DES techniques\n",
    "knorau = KNORAU(pool_classifiers)\n",
    "kne = KNORAE(pool_classifiers)\n",
    "desp = DESP(pool_classifiers)\n",
    "meta = METADES(pool_classifiers)"
   ]
  },
  {
   "cell_type": "code",
   "execution_count": 12,
   "metadata": {},
   "outputs": [
    {
     "data": {
      "text/plain": [
       "METADES(DFP=False, DSEL_perc=0.5, Hc=1.0, IH_rate=0.3, Kp=5, k=7,\n",
       "        knn_classifier='knn', meta_classifier=None, mode='selection',\n",
       "        pool_classifiers=BaggingClassifier(base_estimator=CalibratedClassifierCV(base_estimator=Perceptron(alpha=0.0001,\n",
       "                                                                                                           class_weight=None,\n",
       "                                                                                                           early_stopping=False,\n",
       "                                                                                                           eta0=1.0,\n",
       "                                                                                                           fit_intercept=True,\n",
       "                                                                                                           max_iter=10,\n",
       "                                                                                                           n_iter_no_change=5,\n",
       "                                                                                                           n_jobs=None,\n",
       "                                                                                                           penalty=None,\n",
       "                                                                                                           random_state=0,\n",
       "                                                                                                           shuffle=True,\n",
       "                                                                                                           tol=0.001,\n",
       "                                                                                                           validation_fraction=0.1,\n",
       "                                                                                                           verbose=0,\n",
       "                                                                                                           warm_start=False),\n",
       "                                                                                 cv='warn',\n",
       "                                                                                 method='sigmoid'),\n",
       "                                           bootstrap=True,\n",
       "                                           bootstrap_features=False,\n",
       "                                           max_features=1.0, max_samples=1.0,\n",
       "                                           n_estimators=10, n_jobs=None,\n",
       "                                           oob_score=False, random_state=None,\n",
       "                                           verbose=0, warm_start=False),\n",
       "        random_state=None, safe_k=None, selection_threshold=0.5, with_IH=False)"
      ]
     },
     "execution_count": 12,
     "metadata": {},
     "output_type": "execute_result"
    }
   ],
   "source": [
    "knorau.fit(X_dsel, y_dsel)\n",
    "kne.fit(X_dsel, y_dsel)\n",
    "desp.fit(X_dsel, y_dsel)\n",
    "ola.fit(X_dsel, y_dsel)\n",
    "mcb.fit(X_dsel, y_dsel)\n",
    "apriori.fit(X_dsel, y_dsel)\n",
    "meta.fit(X_dsel, y_dsel)"
   ]
  },
  {
   "cell_type": "code",
   "execution_count": 13,
   "metadata": {},
   "outputs": [
    {
     "name": "stdout",
     "output_type": "stream",
     "text": [
      "Classification accuracy OLA:  0.9414893617021277\n",
      "Classification accuracy A priori:  0.9627659574468085\n",
      "Classification accuracy KNORA-Union:  0.9574468085106383\n",
      "Classification accuracy KNORA-Eliminate:  0.9680851063829787\n",
      "Classification accuracy DESP:  0.9574468085106383\n",
      "Classification accuracy META-DES:  0.9574468085106383\n"
     ]
    }
   ],
   "source": [
    "print('Classification accuracy OLA: ', ola.score(X_test, y_test))\n",
    "print('Classification accuracy A priori: ', apriori.score(X_test, y_test))\n",
    "print('Classification accuracy KNORA-Union: ', knorau.score(X_test, y_test))\n",
    "print('Classification accuracy KNORA-Eliminate: ', kne.score(X_test, y_test))\n",
    "print('Classification accuracy DESP: ', desp.score(X_test, y_test))\n",
    "print('Classification accuracy META-DES: ', apriori.score(X_test, y_test))"
   ]
  },
  {
   "cell_type": "code",
   "execution_count": null,
   "metadata": {},
   "outputs": [],
   "source": []
  }
 ],
 "metadata": {
  "kernelspec": {
   "display_name": "Python 3",
   "language": "python",
   "name": "python3"
  },
  "language_info": {
   "codemirror_mode": {
    "name": "ipython",
    "version": 3
   },
   "file_extension": ".py",
   "mimetype": "text/x-python",
   "name": "python",
   "nbconvert_exporter": "python",
   "pygments_lexer": "ipython3",
   "version": "3.7.4"
  }
 },
 "nbformat": 4,
 "nbformat_minor": 2
}
