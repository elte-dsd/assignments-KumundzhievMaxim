{
 "cells": [
  {
   "cell_type": "code",
   "execution_count": 1,
   "metadata": {},
   "outputs": [],
   "source": [
    "import numpy"
   ]
  },
  {
   "cell_type": "markdown",
   "metadata": {},
   "source": [
    "### Solution for initial formula of Dynamic Weighted Majority"
   ]
  },
  {
   "cell_type": "markdown",
   "metadata": {},
   "source": [
    "<img src=\"DWM algorithm.png\">"
   ]
  },
  {
   "cell_type": "code",
   "execution_count": 5,
   "metadata": {},
   "outputs": [
    {
     "name": "stdout",
     "output_type": "stream",
     "text": [
      "[1, 1, 0, 0, 0]\n",
      "[0.5, 0.5, 0.5, 1]\n"
     ]
    }
   ],
   "source": [
    "def DWM(weights, y_predicts):\n",
    "    results = [] * 5\n",
    "\n",
    "    for k in range(5):\n",
    "        temp0_sum = 0.0\n",
    "        temp1_sum = 0.0\n",
    "        for m in range(4):\n",
    "            if y_predicts[m][k] == 0:\n",
    "                temp0_sum += weights[m]\n",
    "            elif y_predicts[m][k] == 1:\n",
    "                temp1_sum += weights[m]\n",
    "\n",
    "        if temp0_sum > temp1_sum:\n",
    "            results.append(0)\n",
    "        elif temp0_sum < temp1_sum:\n",
    "            results.append(1)\n",
    "        for m in range(4):\n",
    "            if y_predicts[m][k] == results[k]:\n",
    "                weights[m] = weights[m]\n",
    "            elif y_predicts[m][k] != results[k]:\n",
    "                weights[m] *= 0.5\n",
    "\n",
    "    return (results, weights)\n",
    "\n",
    "weights = [1, 1, 1, 1]\n",
    "y_predicts = [] * len(weights)\n",
    "y_predicts.append([1, 1, 0, 0, 1])\n",
    "y_predicts.append([1, 1, 0, 1, 0])\n",
    "y_predicts.append([0, 1, 0, 0, 0])\n",
    "y_predicts.append([1, 1, 0, 0, 0])\n",
    "\n",
    "results, weights = DWM(weights, y_predicts)\n",
    "print(results)\n",
    "print(weights)"
   ]
  },
  {
   "cell_type": "code",
   "execution_count": null,
   "metadata": {},
   "outputs": [],
   "source": []
  }
 ],
 "metadata": {
  "kernelspec": {
   "display_name": "Python 3",
   "language": "python",
   "name": "python3"
  },
  "language_info": {
   "codemirror_mode": {
    "name": "ipython",
    "version": 3
   },
   "file_extension": ".py",
   "mimetype": "text/x-python",
   "name": "python",
   "nbconvert_exporter": "python",
   "pygments_lexer": "ipython3",
   "version": "3.7.4"
  }
 },
 "nbformat": 4,
 "nbformat_minor": 2
}
